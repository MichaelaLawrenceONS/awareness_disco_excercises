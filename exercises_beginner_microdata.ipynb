{
 "cells": [
  {
   "cell_type": "code",
   "execution_count": 1,
   "metadata": {},
   "outputs": [
    {
     "name": "stderr",
     "output_type": "stream",
     "text": [
      "C:\\Users\\lawrem1\\Anaconda3\\lib\\site-packages\\setuptools\\distutils_patch.py:25: UserWarning: Distutils was imported before Setuptools. This usage is discouraged and may exhibit undesirable behaviors or errors. Please use Setuptools' objects directly or at least import Setuptools first.\n",
      "  warnings.warn(\n"
     ]
    }
   ],
   "source": [
    "import pandas as pd\n",
    "import numpy as np"
   ]
  },
  {
   "cell_type": "markdown",
   "metadata": {},
   "source": [
    "# Diclosure control warm up excercises for apprentices"
   ]
  },
  {
   "cell_type": "markdown",
   "metadata": {},
   "source": [
    "Based on the learning hub course Awarness of Atatistical Disclosure Control with content taken directly from it. \n",
    "\n",
    "A few notes before we get started so you dont have to keep switching betwen the course and here. \n",
    "\n",
    "**The General Data Protection Regulation [GDPR]** mandates protection for personal data from which the identities of individuals can be determined from the data itself and other sources held by the data controller.  It refers to \"special categories\" of data, for which additional care must be taken.  These include:\n",
    "\n",
    "* ethnic origin\n",
    "* political affiliation\n",
    "* religion\n",
    "* biometrics (for ID purposes)\n",
    "* health\n",
    "* sexual orientation\n",
    "\n",
    "An intruder can be:  \n",
    "\n",
    "* an acquaintance using information gained by **knowing the respondent**, or\n",
    "* a stranger using information in the **public domain**."
   ]
  },
  {
   "cell_type": "markdown",
   "metadata": {},
   "source": [
    "## The Three Major Data Formats\n",
    "\n",
    "Disclosure control can be applied to any of the following data structures:\n",
    "\n",
    "* microdata\n",
    "* frequency tables\n",
    "* magnitude tables\n",
    "\n",
    "Statistical information is often held in the form of microdata after collection. In microdata each row corresponds to a single respondent: a business, individual or other statistical unit.\n",
    "\n",
    "Because microdata are often highly disclosive, they are generally aggregated into frequency tables or magnitude tables before release.\n",
    "\n",
    "The remainder of the course will outline the risks that each of these data formats pose, and the associated disclosure methods that can be used to reduce the risk to an acceptable level.\n",
    "\n",
    "##### In this notebook we will only cover microdata"
   ]
  },
  {
   "cell_type": "markdown",
   "metadata": {},
   "source": [
    "### Protecting Microdata\n",
    "\n",
    "There are a number of techniques used to protect microdata. The primary method is restricting access under certain license agreements, which will be covered later. Others include:\n",
    "\n",
    "* Removing identifiers\n",
    "* Perturbation (such as adding noise)\n",
    "* Recoding\n",
    "* Top Coding"
   ]
  },
  {
   "cell_type": "markdown",
   "metadata": {},
   "source": [
    "#### Excercise 1.1 remove the identifiers from the excercise 1 dataset \n",
    "\n",
    "Difficulty: Easy "
   ]
  },
  {
   "cell_type": "code",
   "execution_count": 2,
   "metadata": {},
   "outputs": [],
   "source": [
    "ex1 = pd.read_csv('data/ex01.csv', index_col = 0) # plz don't chnage this cell!!"
   ]
  },
  {
   "cell_type": "code",
   "execution_count": 3,
   "metadata": {},
   "outputs": [
    {
     "data": {
      "text/html": [
       "<div>\n",
       "<style scoped>\n",
       "    .dataframe tbody tr th:only-of-type {\n",
       "        vertical-align: middle;\n",
       "    }\n",
       "\n",
       "    .dataframe tbody tr th {\n",
       "        vertical-align: top;\n",
       "    }\n",
       "\n",
       "    .dataframe thead th {\n",
       "        text-align: right;\n",
       "    }\n",
       "</style>\n",
       "<table border=\"1\" class=\"dataframe\">\n",
       "  <thead>\n",
       "    <tr style=\"text-align: right;\">\n",
       "      <th></th>\n",
       "      <th>Name</th>\n",
       "      <th>National Insurance Number</th>\n",
       "      <th>Age</th>\n",
       "      <th>Sex</th>\n",
       "      <th>Marital Status</th>\n",
       "      <th>Income (£)</th>\n",
       "    </tr>\n",
       "  </thead>\n",
       "  <tbody>\n",
       "    <tr>\n",
       "      <th>1</th>\n",
       "      <td>John Smith</td>\n",
       "      <td>IE524614Z</td>\n",
       "      <td>50</td>\n",
       "      <td>Male</td>\n",
       "      <td>Married</td>\n",
       "      <td>50000.0</td>\n",
       "    </tr>\n",
       "    <tr>\n",
       "      <th>2</th>\n",
       "      <td>Natalie Pennington</td>\n",
       "      <td>NY473823T</td>\n",
       "      <td>16</td>\n",
       "      <td>Female</td>\n",
       "      <td>Widowed</td>\n",
       "      <td>18000.0</td>\n",
       "    </tr>\n",
       "    <tr>\n",
       "      <th>3</th>\n",
       "      <td>Sarah Cooper</td>\n",
       "      <td>WJ935996X</td>\n",
       "      <td>24</td>\n",
       "      <td>Female</td>\n",
       "      <td>Single</td>\n",
       "      <td>24000.0</td>\n",
       "    </tr>\n",
       "    <tr>\n",
       "      <th>4</th>\n",
       "      <td>Rosa Pipwell</td>\n",
       "      <td>WV162384O</td>\n",
       "      <td>80</td>\n",
       "      <td>Female</td>\n",
       "      <td>Widowed</td>\n",
       "      <td>NaN</td>\n",
       "    </tr>\n",
       "  </tbody>\n",
       "</table>\n",
       "</div>"
      ],
      "text/plain": [
       "                 Name National Insurance Number  Age     Sex Marital Status  \\\n",
       "1          John Smith                 IE524614Z   50    Male        Married   \n",
       "2  Natalie Pennington                 NY473823T   16  Female        Widowed   \n",
       "3        Sarah Cooper                 WJ935996X   24  Female         Single   \n",
       "4        Rosa Pipwell                 WV162384O   80  Female        Widowed   \n",
       "\n",
       "   Income (£)  \n",
       "1     50000.0  \n",
       "2     18000.0  \n",
       "3     24000.0  \n",
       "4         NaN  "
      ]
     },
     "execution_count": 3,
     "metadata": {},
     "output_type": "execute_result"
    }
   ],
   "source": [
    "ex1"
   ]
  },
  {
   "cell_type": "code",
   "execution_count": 4,
   "metadata": {},
   "outputs": [],
   "source": [
    "ex1_1 = ex1 # change this cell to include your solution"
   ]
  },
  {
   "cell_type": "code",
   "execution_count": 5,
   "metadata": {},
   "outputs": [
    {
     "data": {
      "text/html": [
       "<div>\n",
       "<style scoped>\n",
       "    .dataframe tbody tr th:only-of-type {\n",
       "        vertical-align: middle;\n",
       "    }\n",
       "\n",
       "    .dataframe tbody tr th {\n",
       "        vertical-align: top;\n",
       "    }\n",
       "\n",
       "    .dataframe thead th {\n",
       "        text-align: right;\n",
       "    }\n",
       "</style>\n",
       "<table border=\"1\" class=\"dataframe\">\n",
       "  <thead>\n",
       "    <tr style=\"text-align: right;\">\n",
       "      <th></th>\n",
       "      <th>Name</th>\n",
       "      <th>National Insurance Number</th>\n",
       "      <th>Age</th>\n",
       "      <th>Sex</th>\n",
       "      <th>Marital Status</th>\n",
       "      <th>Income (£)</th>\n",
       "    </tr>\n",
       "  </thead>\n",
       "  <tbody>\n",
       "    <tr>\n",
       "      <th>1</th>\n",
       "      <td>John Smith</td>\n",
       "      <td>IE524614Z</td>\n",
       "      <td>50</td>\n",
       "      <td>Male</td>\n",
       "      <td>Married</td>\n",
       "      <td>50000.0</td>\n",
       "    </tr>\n",
       "    <tr>\n",
       "      <th>2</th>\n",
       "      <td>Natalie Pennington</td>\n",
       "      <td>NY473823T</td>\n",
       "      <td>16</td>\n",
       "      <td>Female</td>\n",
       "      <td>Widowed</td>\n",
       "      <td>18000.0</td>\n",
       "    </tr>\n",
       "    <tr>\n",
       "      <th>3</th>\n",
       "      <td>Sarah Cooper</td>\n",
       "      <td>WJ935996X</td>\n",
       "      <td>24</td>\n",
       "      <td>Female</td>\n",
       "      <td>Single</td>\n",
       "      <td>24000.0</td>\n",
       "    </tr>\n",
       "    <tr>\n",
       "      <th>4</th>\n",
       "      <td>Rosa Pipwell</td>\n",
       "      <td>WV162384O</td>\n",
       "      <td>80</td>\n",
       "      <td>Female</td>\n",
       "      <td>Widowed</td>\n",
       "      <td>NaN</td>\n",
       "    </tr>\n",
       "  </tbody>\n",
       "</table>\n",
       "</div>"
      ],
      "text/plain": [
       "                 Name National Insurance Number  Age     Sex Marital Status  \\\n",
       "1          John Smith                 IE524614Z   50    Male        Married   \n",
       "2  Natalie Pennington                 NY473823T   16  Female        Widowed   \n",
       "3        Sarah Cooper                 WJ935996X   24  Female         Single   \n",
       "4        Rosa Pipwell                 WV162384O   80  Female        Widowed   \n",
       "\n",
       "   Income (£)  \n",
       "1     50000.0  \n",
       "2     18000.0  \n",
       "3     24000.0  \n",
       "4         NaN  "
      ]
     },
     "execution_count": 5,
     "metadata": {},
     "output_type": "execute_result"
    }
   ],
   "source": [
    "ex1_1"
   ]
  },
  {
   "cell_type": "markdown",
   "metadata": {},
   "source": [
    "#### Excercise 1.2 perturb the dataset acording to how unique the combination of values might be e.g. widows under 25 \n",
    "\n",
    "Difficulty: Hard"
   ]
  },
  {
   "cell_type": "code",
   "execution_count": 6,
   "metadata": {},
   "outputs": [],
   "source": [
    "ex1_2 = ex1 # change this cell to include your solution"
   ]
  },
  {
   "cell_type": "code",
   "execution_count": 7,
   "metadata": {},
   "outputs": [
    {
     "data": {
      "text/html": [
       "<div>\n",
       "<style scoped>\n",
       "    .dataframe tbody tr th:only-of-type {\n",
       "        vertical-align: middle;\n",
       "    }\n",
       "\n",
       "    .dataframe tbody tr th {\n",
       "        vertical-align: top;\n",
       "    }\n",
       "\n",
       "    .dataframe thead th {\n",
       "        text-align: right;\n",
       "    }\n",
       "</style>\n",
       "<table border=\"1\" class=\"dataframe\">\n",
       "  <thead>\n",
       "    <tr style=\"text-align: right;\">\n",
       "      <th></th>\n",
       "      <th>Name</th>\n",
       "      <th>National Insurance Number</th>\n",
       "      <th>Age</th>\n",
       "      <th>Sex</th>\n",
       "      <th>Marital Status</th>\n",
       "      <th>Income (£)</th>\n",
       "    </tr>\n",
       "  </thead>\n",
       "  <tbody>\n",
       "    <tr>\n",
       "      <th>1</th>\n",
       "      <td>John Smith</td>\n",
       "      <td>IE524614Z</td>\n",
       "      <td>50</td>\n",
       "      <td>Male</td>\n",
       "      <td>Married</td>\n",
       "      <td>50000.0</td>\n",
       "    </tr>\n",
       "    <tr>\n",
       "      <th>2</th>\n",
       "      <td>Natalie Pennington</td>\n",
       "      <td>NY473823T</td>\n",
       "      <td>16</td>\n",
       "      <td>Female</td>\n",
       "      <td>Widowed</td>\n",
       "      <td>18000.0</td>\n",
       "    </tr>\n",
       "    <tr>\n",
       "      <th>3</th>\n",
       "      <td>Sarah Cooper</td>\n",
       "      <td>WJ935996X</td>\n",
       "      <td>24</td>\n",
       "      <td>Female</td>\n",
       "      <td>Single</td>\n",
       "      <td>24000.0</td>\n",
       "    </tr>\n",
       "    <tr>\n",
       "      <th>4</th>\n",
       "      <td>Rosa Pipwell</td>\n",
       "      <td>WV162384O</td>\n",
       "      <td>80</td>\n",
       "      <td>Female</td>\n",
       "      <td>Widowed</td>\n",
       "      <td>NaN</td>\n",
       "    </tr>\n",
       "  </tbody>\n",
       "</table>\n",
       "</div>"
      ],
      "text/plain": [
       "                 Name National Insurance Number  Age     Sex Marital Status  \\\n",
       "1          John Smith                 IE524614Z   50    Male        Married   \n",
       "2  Natalie Pennington                 NY473823T   16  Female        Widowed   \n",
       "3        Sarah Cooper                 WJ935996X   24  Female         Single   \n",
       "4        Rosa Pipwell                 WV162384O   80  Female        Widowed   \n",
       "\n",
       "   Income (£)  \n",
       "1     50000.0  \n",
       "2     18000.0  \n",
       "3     24000.0  \n",
       "4         NaN  "
      ]
     },
     "execution_count": 7,
     "metadata": {},
     "output_type": "execute_result"
    }
   ],
   "source": [
    "ex1_2"
   ]
  },
  {
   "cell_type": "markdown",
   "metadata": {},
   "source": [
    "#### Excercise 1.3 recode the dataset to change the marital status column \n",
    "\n",
    "Difficulty: Medium  \n",
    "\n",
    "Hint: use a dictionary & map "
   ]
  },
  {
   "cell_type": "code",
   "execution_count": 8,
   "metadata": {},
   "outputs": [],
   "source": [
    "ex1_3 = ex1 # change this cell to include your solution"
   ]
  },
  {
   "cell_type": "code",
   "execution_count": 9,
   "metadata": {},
   "outputs": [
    {
     "data": {
      "text/html": [
       "<div>\n",
       "<style scoped>\n",
       "    .dataframe tbody tr th:only-of-type {\n",
       "        vertical-align: middle;\n",
       "    }\n",
       "\n",
       "    .dataframe tbody tr th {\n",
       "        vertical-align: top;\n",
       "    }\n",
       "\n",
       "    .dataframe thead th {\n",
       "        text-align: right;\n",
       "    }\n",
       "</style>\n",
       "<table border=\"1\" class=\"dataframe\">\n",
       "  <thead>\n",
       "    <tr style=\"text-align: right;\">\n",
       "      <th></th>\n",
       "      <th>Name</th>\n",
       "      <th>National Insurance Number</th>\n",
       "      <th>Age</th>\n",
       "      <th>Sex</th>\n",
       "      <th>Marital Status</th>\n",
       "      <th>Income (£)</th>\n",
       "    </tr>\n",
       "  </thead>\n",
       "  <tbody>\n",
       "    <tr>\n",
       "      <th>1</th>\n",
       "      <td>John Smith</td>\n",
       "      <td>IE524614Z</td>\n",
       "      <td>50</td>\n",
       "      <td>Male</td>\n",
       "      <td>Married</td>\n",
       "      <td>50000.0</td>\n",
       "    </tr>\n",
       "    <tr>\n",
       "      <th>2</th>\n",
       "      <td>Natalie Pennington</td>\n",
       "      <td>NY473823T</td>\n",
       "      <td>16</td>\n",
       "      <td>Female</td>\n",
       "      <td>Widowed</td>\n",
       "      <td>18000.0</td>\n",
       "    </tr>\n",
       "    <tr>\n",
       "      <th>3</th>\n",
       "      <td>Sarah Cooper</td>\n",
       "      <td>WJ935996X</td>\n",
       "      <td>24</td>\n",
       "      <td>Female</td>\n",
       "      <td>Single</td>\n",
       "      <td>24000.0</td>\n",
       "    </tr>\n",
       "    <tr>\n",
       "      <th>4</th>\n",
       "      <td>Rosa Pipwell</td>\n",
       "      <td>WV162384O</td>\n",
       "      <td>80</td>\n",
       "      <td>Female</td>\n",
       "      <td>Widowed</td>\n",
       "      <td>NaN</td>\n",
       "    </tr>\n",
       "  </tbody>\n",
       "</table>\n",
       "</div>"
      ],
      "text/plain": [
       "                 Name National Insurance Number  Age     Sex Marital Status  \\\n",
       "1          John Smith                 IE524614Z   50    Male        Married   \n",
       "2  Natalie Pennington                 NY473823T   16  Female        Widowed   \n",
       "3        Sarah Cooper                 WJ935996X   24  Female         Single   \n",
       "4        Rosa Pipwell                 WV162384O   80  Female        Widowed   \n",
       "\n",
       "   Income (£)  \n",
       "1     50000.0  \n",
       "2     18000.0  \n",
       "3     24000.0  \n",
       "4         NaN  "
      ]
     },
     "execution_count": 9,
     "metadata": {},
     "output_type": "execute_result"
    }
   ],
   "source": [
    "ex1_3"
   ]
  },
  {
   "cell_type": "markdown",
   "metadata": {},
   "source": [
    "#### Excercise 1.4 top or bottom coding\n",
    "\n",
    "Difficulty: hmm... it kind of has levels\n",
    "    \n",
    "hint: Whats the rule for implimenting a chnage? whats the chang that is implimented?"
   ]
  },
  {
   "cell_type": "code",
   "execution_count": 10,
   "metadata": {},
   "outputs": [],
   "source": [
    "ex1_4 = ex1 # change this cell to include your solution"
   ]
  },
  {
   "cell_type": "code",
   "execution_count": 11,
   "metadata": {},
   "outputs": [
    {
     "data": {
      "text/html": [
       "<div>\n",
       "<style scoped>\n",
       "    .dataframe tbody tr th:only-of-type {\n",
       "        vertical-align: middle;\n",
       "    }\n",
       "\n",
       "    .dataframe tbody tr th {\n",
       "        vertical-align: top;\n",
       "    }\n",
       "\n",
       "    .dataframe thead th {\n",
       "        text-align: right;\n",
       "    }\n",
       "</style>\n",
       "<table border=\"1\" class=\"dataframe\">\n",
       "  <thead>\n",
       "    <tr style=\"text-align: right;\">\n",
       "      <th></th>\n",
       "      <th>Name</th>\n",
       "      <th>National Insurance Number</th>\n",
       "      <th>Age</th>\n",
       "      <th>Sex</th>\n",
       "      <th>Marital Status</th>\n",
       "      <th>Income (£)</th>\n",
       "    </tr>\n",
       "  </thead>\n",
       "  <tbody>\n",
       "    <tr>\n",
       "      <th>1</th>\n",
       "      <td>John Smith</td>\n",
       "      <td>IE524614Z</td>\n",
       "      <td>50</td>\n",
       "      <td>Male</td>\n",
       "      <td>Married</td>\n",
       "      <td>50000.0</td>\n",
       "    </tr>\n",
       "    <tr>\n",
       "      <th>2</th>\n",
       "      <td>Natalie Pennington</td>\n",
       "      <td>NY473823T</td>\n",
       "      <td>16</td>\n",
       "      <td>Female</td>\n",
       "      <td>Widowed</td>\n",
       "      <td>18000.0</td>\n",
       "    </tr>\n",
       "    <tr>\n",
       "      <th>3</th>\n",
       "      <td>Sarah Cooper</td>\n",
       "      <td>WJ935996X</td>\n",
       "      <td>24</td>\n",
       "      <td>Female</td>\n",
       "      <td>Single</td>\n",
       "      <td>24000.0</td>\n",
       "    </tr>\n",
       "    <tr>\n",
       "      <th>4</th>\n",
       "      <td>Rosa Pipwell</td>\n",
       "      <td>WV162384O</td>\n",
       "      <td>80</td>\n",
       "      <td>Female</td>\n",
       "      <td>Widowed</td>\n",
       "      <td>NaN</td>\n",
       "    </tr>\n",
       "  </tbody>\n",
       "</table>\n",
       "</div>"
      ],
      "text/plain": [
       "                 Name National Insurance Number  Age     Sex Marital Status  \\\n",
       "1          John Smith                 IE524614Z   50    Male        Married   \n",
       "2  Natalie Pennington                 NY473823T   16  Female        Widowed   \n",
       "3        Sarah Cooper                 WJ935996X   24  Female         Single   \n",
       "4        Rosa Pipwell                 WV162384O   80  Female        Widowed   \n",
       "\n",
       "   Income (£)  \n",
       "1     50000.0  \n",
       "2     18000.0  \n",
       "3     24000.0  \n",
       "4         NaN  "
      ]
     },
     "execution_count": 11,
     "metadata": {},
     "output_type": "execute_result"
    }
   ],
   "source": [
    "ex1_4"
   ]
  }
 ],
 "metadata": {
  "kernelspec": {
   "display_name": "Python 3",
   "language": "python",
   "name": "python3"
  },
  "language_info": {
   "codemirror_mode": {
    "name": "ipython",
    "version": 3
   },
   "file_extension": ".py",
   "mimetype": "text/x-python",
   "name": "python",
   "nbconvert_exporter": "python",
   "pygments_lexer": "ipython3",
   "version": "3.8.3"
  }
 },
 "nbformat": 4,
 "nbformat_minor": 4
}
